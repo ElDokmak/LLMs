{
  "nbformat": 4,
  "nbformat_minor": 0,
  "metadata": {
    "colab": {
      "provenance": []
    },
    "kernelspec": {
      "name": "python3",
      "display_name": "Python 3"
    },
    "language_info": {
      "name": "python"
    }
  },
  "cells": [
    {
      "cell_type": "code",
      "execution_count": 1,
      "metadata": {
        "id": "k-I3dTxdrJEr"
      },
      "outputs": [],
      "source": [
        "import math\n",
        "import torch\n",
        "from torch import nn\n",
        "import torch.nn.functional as F"
      ]
    },
    {
      "cell_type": "code",
      "source": [
        "def scaled_dot_product(q, k, v, mask=None):\n",
        "  d_k = q.size()[-1]\n",
        "  scaled = torch.matmul(q, k.transpose(-1, -2)) / math.sqrt(d_k)\n",
        "  print(f\"scaled.size() : {scaled.size()}\")\n",
        "  if mask is not None:\n",
        "    scaled += mask\n",
        "  attention = F.softmax(scaled, dim=-1)\n",
        "  values = torch.matmul(attention, v)\n",
        "  return values, attention\n",
        "\n",
        "class MultiHeadAttention(nn.Module):\n",
        "  def __init__(self, d_model, num_heads):\n",
        "    super().__init__()\n",
        "    self.d_model = d_model\n",
        "    self.num_heads = num_heads\n",
        "    self.head_dim = d_model // num_heads\n",
        "    self.qkv_layer = nn.Linear(d_model , 3 * d_model)\n",
        "    self.linear_layer = nn.Linear(d_model, d_model)\n",
        "\n",
        "  def forward(self, x, mask=None):\n",
        "    batch_size, max_sequence_length, d_model = x.size()\n",
        "    qkv = self.qkv_layer(x)\n",
        "    qkv = qkv.reshape(batch_size, max_sequence_length, self.num_heads, 3 * self.head_dim)\n",
        "    qkv = qkv.permute(0, 2, 1, 3)\n",
        "    q, k, v = qkv.chunk(3, dim=-1)\n",
        "    values, attention = scaled_dot_product(q, k, v, mask)\n",
        "    values = values.reshape(batch_size, max_sequence_length, self.num_heads * self.head_dim)\n",
        "    out = self.linear_layer(values)\n",
        "    return out\n",
        "\n",
        "class LayerNormalization(nn.Module):\n",
        "  def __init__(self, parameters_shape, eps=1e-5):\n",
        "    super().__init__()\n",
        "    self.parameters_shape=parameters_shape\n",
        "    self.eps=eps\n",
        "    self.gamma = nn.Parameter(torch.ones(parameters_shape))\n",
        "    self.beta =  nn.Parameter(torch.zeros(parameters_shape))\n",
        "\n",
        "  def forward(self, inputs):\n",
        "    dims = [-(i + 1) for i in range(len(self.parameters_shape))]\n",
        "    mean = inputs.mean(dim=dims, keepdim=True)\n",
        "    var = ((inputs - mean) ** 2).mean(dim=dims, keepdim=True)\n",
        "    std = (var + self.eps).sqrt()\n",
        "    y = (inputs - mean) / std\n",
        "    out = self.gamma * y  + self.beta\n",
        "    return out\n",
        "\n",
        "\n",
        "class PositionwiseFeedForward(nn.Module):\n",
        "  def __init__(self, d_model, hidden, drop_prob=0.1):\n",
        "    super(PositionwiseFeedForward, self).__init__()\n",
        "    self.linear1 = nn.Linear(d_model, hidden)\n",
        "    self.linear2 = nn.Linear(hidden, d_model)\n",
        "    self.relu = nn.ReLU()\n",
        "    self.dropout = nn.Dropout(p=drop_prob)\n",
        "\n",
        "  def forward(self, x):\n",
        "    x = self.linear1(x)\n",
        "    x = self.relu(x)\n",
        "    x = self.dropout(x)\n",
        "    x = self.linear2(x)\n",
        "    return x\n",
        "\n",
        "class EncoderLayer(nn.Module):\n",
        "  def __init__(self, d_model, ffn_hidden, num_heads, drop_prob):\n",
        "    super(EncoderLayer, self).__init__()\n",
        "    self.attention = MultiHeadAttention(d_model=d_model, num_heads=num_heads)\n",
        "    self.norm1 = LayerNormalization(parameters_shape=[d_model])\n",
        "    self.dropout1 = nn.Dropout(p=drop_prob)\n",
        "    self.ffn = PositionwiseFeedForward(d_model=d_model, hidden=ffn_hidden, drop_prob=drop_prob)\n",
        "    self.norm2 = LayerNormalization(parameters_shape=[d_model])\n",
        "    self.dropout2 = nn.Dropout(p=drop_prob)\n",
        "\n",
        "  def forward(self, x):\n",
        "    residual_x = x\n",
        "    print(\"------- ATTENTION 1 ------\")\n",
        "    x = self.attention(x, mask=None)\n",
        "    print(\"------- DROPOUT 1 ------\")\n",
        "    x = self.dropout1(x)\n",
        "    print(\"------- ADD AND LAYER NORMALIZATION 1 ------\")\n",
        "    x = self.norm1(x + residual_x)\n",
        "    residual_x = x\n",
        "    print(\"------- ATTENTION 2 ------\")\n",
        "    x = self.ffn(x)\n",
        "    print(\"------- DROPOUT 2 ------\")\n",
        "    x = self.dropout2(x)\n",
        "    print(\"------- ADD AND LAYER NORMALIZATION 2 ------\")\n",
        "    x = self.norm2(x + residual_x)\n",
        "    return x\n",
        "\n",
        "class Encoder(nn.Module):\n",
        "  def __init__(self, d_model, ffn_hidden, num_heads, drop_prob, num_layers):\n",
        "    super().__init__()\n",
        "    self.layers = nn.Sequential(*[EncoderLayer(d_model, ffn_hidden, num_heads, drop_prob) for _ in range(num_layers)])\n",
        "\n",
        "  def forward(self, x):\n",
        "    x = self.layers(x)\n",
        "    return x"
      ],
      "metadata": {
        "id": "WZhGXUk9rZDe"
      },
      "execution_count": 14,
      "outputs": []
    },
    {
      "cell_type": "code",
      "source": [
        "d_model = 512\n",
        "num_heads = 8\n",
        "drop_prob = 0.1\n",
        "batch_size = 30\n",
        "max_sequence_length = 200\n",
        "ffn_hidden = 2048\n",
        "num_layers = 5\n",
        "\n",
        "encoder = Encoder(d_model, ffn_hidden, num_heads, drop_prob, num_layers)"
      ],
      "metadata": {
        "id": "pSLma7bDst2Q"
      },
      "execution_count": 15,
      "outputs": []
    },
    {
      "cell_type": "code",
      "source": [
        "x = torch.randn( (batch_size, max_sequence_length, d_model) ) # includes positional encoding\n",
        "out = encoder(x)"
      ],
      "metadata": {
        "id": "FU5WEnx3tnpi"
      },
      "execution_count": null,
      "outputs": []
    },
    {
      "cell_type": "code",
      "source": [],
      "metadata": {
        "id": "_lHIUCbUt4xv"
      },
      "execution_count": null,
      "outputs": []
    }
  ]
}