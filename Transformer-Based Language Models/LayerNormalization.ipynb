{
  "nbformat": 4,
  "nbformat_minor": 0,
  "metadata": {
    "colab": {
      "provenance": []
    },
    "kernelspec": {
      "name": "python3",
      "display_name": "Python 3"
    },
    "language_info": {
      "name": "python"
    }
  },
  "cells": [
    {
      "cell_type": "code",
      "source": [
        "import torch\n",
        "import torch.nn as nn"
      ],
      "metadata": {
        "id": "O9CALmBJXFk5"
      },
      "execution_count": 1,
      "outputs": []
    },
    {
      "cell_type": "code",
      "source": [
        "class LayerNormalization() :\n",
        "\n",
        "  def __init__(self, parameters_shape, eps=1e-5) :\n",
        "    self.parameters_shape = parameters_shape\n",
        "    self.eps = eps\n",
        "    self.gamma = nn.Parameter(torch.ones(parameters_shape))\n",
        "    self.beta = nn.Parameter(torch.zeros(parameters_shape))\n",
        "\n",
        "  def forward(self, input) :\n",
        "    dims = [ -(i+1) for i in range(len(self.parameters_shape)) ]\n",
        "    mean = inputs.mean(dim = dims, keepdim = True)\n",
        "    var = ( (inputs-mean)**2 ).mean(dim=dims, keepdim = True)\n",
        "    std = (var + self.eps).sqrt()\n",
        "    y = (inputs- mean) / std\n",
        "    out = self.gamma * y + self.beta\n",
        "    return out"
      ],
      "metadata": {
        "id": "g3h_H08LXKaL"
      },
      "execution_count": 2,
      "outputs": []
    },
    {
      "cell_type": "code",
      "source": [
        "batch_size = 3\n",
        "sentence_length = 5\n",
        "embedding_dim = 8\n",
        "inputs = torch.randn(sentence_length, batch_size, embedding_dim)\n",
        "\n",
        "print(f\"input \\n ({inputs.size()}) = \\n {inputs}\")"
      ],
      "metadata": {
        "colab": {
          "base_uri": "https://localhost:8080/"
        },
        "id": "8PmTWmtBYac-",
        "outputId": "ba3cd354-5b98-493c-fc0f-4069a2f70c47"
      },
      "execution_count": 3,
      "outputs": [
        {
          "output_type": "stream",
          "name": "stdout",
          "text": [
            "input \n",
            " (torch.Size([5, 3, 8])) = \n",
            " tensor([[[-1.1305,  0.7766,  0.2488, -0.7696,  0.3130,  0.9095, -1.0269,\n",
            "           0.7433],\n",
            "         [ 0.0445,  1.0059,  0.6081, -0.0995, -2.3801,  1.3989,  0.9593,\n",
            "          -0.8575],\n",
            "         [-0.4124,  0.7781,  0.3412,  0.1573, -1.0477,  0.2032, -0.0979,\n",
            "           0.2657]],\n",
            "\n",
            "        [[-1.5440,  2.1601,  0.7988,  0.3979, -0.2143,  1.3551, -1.5014,\n",
            "          -0.1860],\n",
            "         [ 0.5978,  1.2435,  0.7521, -1.6968, -0.2841,  0.7680,  0.9688,\n",
            "          -0.6426],\n",
            "         [ 0.3264, -0.8967, -0.1409,  0.9390,  0.2855, -3.0673, -1.4926,\n",
            "          -0.7302]],\n",
            "\n",
            "        [[ 0.1264,  0.8977, -0.5362, -1.4786, -0.1422, -0.3115,  1.4912,\n",
            "          -1.5385],\n",
            "         [-0.1230,  1.5032,  0.4378, -0.2139,  1.5059, -1.5982,  0.2533,\n",
            "          -0.0602],\n",
            "         [ 0.6296,  0.6556, -0.3112, -2.3175, -0.4679,  1.1303, -0.2192,\n",
            "           1.0089]],\n",
            "\n",
            "        [[ 0.0177, -0.7093,  2.2480,  1.0673,  1.5850,  0.4815, -2.6331,\n",
            "           0.7035],\n",
            "         [ 0.2420,  0.8561,  0.8398, -1.8772,  1.1641,  0.5077, -1.3267,\n",
            "           0.1573],\n",
            "         [ 0.1907,  0.2880,  1.5143, -1.5124,  0.6014,  1.1517, -1.6711,\n",
            "           0.1065]],\n",
            "\n",
            "        [[ 0.6273, -1.4883, -0.8182, -1.3656, -0.7151, -1.9338, -1.1514,\n",
            "          -1.3952],\n",
            "         [ 0.9329,  0.6220, -1.9405, -0.1654,  0.6304,  0.0692, -1.1331,\n",
            "           0.3346],\n",
            "         [-1.4092,  1.6845, -0.3602, -1.0239,  0.2641,  0.1482, -0.5316,\n",
            "          -1.1396]]])\n"
          ]
        }
      ]
    },
    {
      "cell_type": "code",
      "source": [
        "layer_norm = LayerNormalization(inputs.size()[-1:])"
      ],
      "metadata": {
        "id": "vk_HfQMAYgkH"
      },
      "execution_count": 4,
      "outputs": []
    },
    {
      "cell_type": "code",
      "source": [
        "out = layer_norm.forward(inputs)"
      ],
      "metadata": {
        "id": "her4FcrxYi6O"
      },
      "execution_count": 5,
      "outputs": []
    },
    {
      "cell_type": "code",
      "source": [
        "out[0].mean(), out[0].std()"
      ],
      "metadata": {
        "colab": {
          "base_uri": "https://localhost:8080/"
        },
        "id": "sVo30ybjYysF",
        "outputId": "98fcf89a-b441-4c8d-ae02-bfdeda46bab0"
      },
      "execution_count": 6,
      "outputs": [
        {
          "output_type": "execute_result",
          "data": {
            "text/plain": [
              "(tensor(-1.2418e-08, grad_fn=<MeanBackward0>),\n",
              " tensor(1.0215, grad_fn=<StdBackward0>))"
            ]
          },
          "metadata": {},
          "execution_count": 6
        }
      ]
    },
    {
      "cell_type": "code",
      "source": [],
      "metadata": {
        "id": "qSvwJX0UY24Y"
      },
      "execution_count": null,
      "outputs": []
    }
  ]
}