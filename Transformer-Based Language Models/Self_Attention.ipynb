{
  "nbformat": 4,
  "nbformat_minor": 0,
  "metadata": {
    "colab": {
      "provenance": []
    },
    "kernelspec": {
      "name": "python3",
      "display_name": "Python 3"
    },
    "language_info": {
      "name": "python"
    }
  },
  "cells": [
    {
      "cell_type": "markdown",
      "source": [
        "# **Self Attention**"
      ],
      "metadata": {
        "id": "WzOuZaXHsrCQ"
      }
    },
    {
      "cell_type": "code",
      "execution_count": 1,
      "metadata": {
        "id": "IFFAtSOMqzmF"
      },
      "outputs": [],
      "source": [
        "import numpy as np \n",
        "import math "
      ]
    },
    {
      "cell_type": "markdown",
      "source": [
        "**L : ** **Length of the input**\n",
        "\n",
        "**Q :** **What I am looking for**  \n",
        "\n",
        "**K :** **What I can offer**\n",
        "\n",
        "**V :** **What I actually offer** \n",
        "\n",
        "#### Note\n",
        "Both Q and K are of the same dimension (dq) while V is of dimension (dv)\n",
        "\n",
        "Let's say that the input is My name is Ahmed\n",
        "\n",
        "My name is Ahmed is in length of 4"
      ],
      "metadata": {
        "id": "NHtMjr2_q-qo"
      }
    },
    {
      "cell_type": "code",
      "source": [
        "L, dq, dv = 4,8,8\n",
        "Q = np.random.randn(L, dq)\n",
        "K = np.random.randn(L, dq)\n",
        "V = np.random.randn(L, dv)"
      ],
      "metadata": {
        "id": "13H01Pqxq9QT"
      },
      "execution_count": 27,
      "outputs": []
    },
    {
      "cell_type": "code",
      "source": [
        "print('Q : \\n', Q)\n",
        "print('K : \\n', K)\n",
        "print('V : \\n', V)"
      ],
      "metadata": {
        "colab": {
          "base_uri": "https://localhost:8080/"
        },
        "id": "AykKB5XgscCu",
        "outputId": "f57239a6-15e1-4930-e9b1-449286124412"
      },
      "execution_count": 28,
      "outputs": [
        {
          "output_type": "stream",
          "name": "stdout",
          "text": [
            "Q : \n",
            " [[ 0.46635938 -0.59510877 -0.66856867  0.48206448  0.32942042 -1.36681101\n",
            "   0.85614494 -0.8952576 ]\n",
            " [ 1.30083908 -1.55527784 -1.65941485 -0.01500044 -2.26423888 -0.23886225\n",
            "   0.64771944 -1.83536998]\n",
            " [ 0.78601109  2.17079093 -0.95556458  2.23233539 -1.92321913 -0.30974206\n",
            "  -0.74437963 -0.44569891]\n",
            " [-1.24050145 -0.0679195   0.96147466  0.71924158 -0.1172627  -1.07715068\n",
            "  -1.56453848  1.23153007]]\n",
            "K : \n",
            " [[ 0.73421333 -1.12431073  0.47077515  0.78467098  1.30427331 -0.06162539\n",
            "  -0.22029435 -1.03760991]\n",
            " [ 1.10569123 -0.32298319 -0.76892317  1.61224318  0.48924895 -0.16134861\n",
            "   0.36756191 -1.10387244]\n",
            " [-0.12453072 -1.05014877  1.69053267  1.07387385  1.59467428  0.0599017\n",
            "   0.50100554  1.13193236]\n",
            " [-0.9740365  -0.99204449  1.9141397  -0.87020474  1.32534766 -0.55064821\n",
            "   0.76014061  0.4753191 ]]\n",
            "V : \n",
            " [[ 0.69372299 -0.33315418  1.19076015 -0.1610816   2.39293975  0.45284894\n",
            "  -1.24985731 -1.86505915]\n",
            " [ 0.83181819  1.64141281 -0.4570855   1.40869969 -0.218901    0.02036299\n",
            "  -0.73538543 -1.28464516]\n",
            " [ 0.7823493  -0.69619861  0.15542968 -0.63710722  1.15477105 -0.62985551\n",
            "  -2.38719945  0.47079909]\n",
            " [-1.56832012 -1.2756044  -0.45556935 -1.18417567  0.17493158 -0.69643907\n",
            "   0.46799549 -0.80248484]]\n"
          ]
        }
      ]
    },
    {
      "cell_type": "markdown",
      "source": [
        "![Screenshot 2023-05-03 010228.png](data:image/png;base64,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)"
      ],
      "metadata": {
        "id": "iVMcWbPVsxxP"
      }
    },
    {
      "cell_type": "markdown",
      "source": [
        "**Note :**\n",
        "\n",
        "The variance of Q and K is around 1 while the multiplication value is arround 5 so we devide by square root of dk to normalize it as u will see in the upcoming cells"
      ],
      "metadata": {
        "id": "BOhWrkeJtIae"
      }
    },
    {
      "cell_type": "code",
      "source": [
        "np.matmul(Q,K.T)"
      ],
      "metadata": {
        "colab": {
          "base_uri": "https://localhost:8080/"
        },
        "id": "Of0uNeWXsoLi",
        "outputId": "b56f755b-d5c7-40ff-a586-b1f9473cd80f"
      },
      "execution_count": 29,
      "outputs": [
        {
          "output_type": "execute_result",
          "data": {
            "text/plain": [
              "array([[ 2.32921973,  3.68378084, -0.18667779, -0.14861921],\n",
              "       [ 0.73397007,  4.38728808, -6.72816033, -6.13686153],\n",
              "       [-2.42462216,  3.8292125 , -5.55860401, -9.84685507],\n",
              "       [-0.8371753 , -2.74747328,  2.98223248,  2.32399999]])"
            ]
          },
          "metadata": {},
          "execution_count": 29
        }
      ]
    },
    {
      "cell_type": "code",
      "source": [
        "Q.var(), K.var(), np.matmul(Q,K.T).var()"
      ],
      "metadata": {
        "colab": {
          "base_uri": "https://localhost:8080/"
        },
        "id": "lsWz9KY8t9ln",
        "outputId": "e03a13c7-5082-47cd-f134-627bb4fc4751"
      },
      "execution_count": 30,
      "outputs": [
        {
          "output_type": "execute_result",
          "data": {
            "text/plain": [
              "(1.3376821441240923, 0.8755124466842906, 17.490706682519004)"
            ]
          },
          "metadata": {},
          "execution_count": 30
        }
      ]
    },
    {
      "cell_type": "code",
      "source": [
        "scaled = np.matmul(Q,K.T) / math.sqrt(dq)\n",
        "Q.var(), K.var(), scaled.var()"
      ],
      "metadata": {
        "colab": {
          "base_uri": "https://localhost:8080/"
        },
        "id": "lxN3luoHuP2e",
        "outputId": "90f05fe8-8beb-4286-d022-4a8ee5e788e0"
      },
      "execution_count": 31,
      "outputs": [
        {
          "output_type": "execute_result",
          "data": {
            "text/plain": [
              "(1.3376821441240923, 0.8755124466842906, 2.1863383353148755)"
            ]
          },
          "metadata": {},
          "execution_count": 31
        }
      ]
    },
    {
      "cell_type": "code",
      "source": [
        "scaled"
      ],
      "metadata": {
        "colab": {
          "base_uri": "https://localhost:8080/"
        },
        "id": "-NU0MITsuJQZ",
        "outputId": "69c7d93c-8b0f-4f69-cdd5-d5676c8894f3"
      },
      "execution_count": 32,
      "outputs": [
        {
          "output_type": "execute_result",
          "data": {
            "text/plain": [
              "array([[ 0.82350353,  1.30241321, -0.06600056, -0.05254483],\n",
              "       [ 0.25949761,  1.55114058, -2.3787639 , -2.1697082 ],\n",
              "       [-0.85723338,  1.35383106, -1.9652633 , -3.481389  ],\n",
              "       [-0.29598617, -0.97137849,  1.0543784 ,  0.82165808]])"
            ]
          },
          "metadata": {},
          "execution_count": 32
        }
      ]
    },
    {
      "cell_type": "markdown",
      "source": [
        "## Masking \n",
        "\n",
        "* This is to ensure words don't get context from words generated in the future.\n",
        "* Not required in the encoders, but required int he decoders"
      ],
      "metadata": {
        "id": "Y-Y17MOZuoWY"
      }
    },
    {
      "cell_type": "code",
      "source": [
        "mask = np.tril(np.ones((L,L)))\n",
        "mask"
      ],
      "metadata": {
        "colab": {
          "base_uri": "https://localhost:8080/"
        },
        "id": "PtVgOiGoumUD",
        "outputId": "8aa926bc-fd19-49d0-fdea-1016d2a85e0b"
      },
      "execution_count": 33,
      "outputs": [
        {
          "output_type": "execute_result",
          "data": {
            "text/plain": [
              "array([[1., 0., 0., 0.],\n",
              "       [1., 1., 0., 0.],\n",
              "       [1., 1., 1., 0.],\n",
              "       [1., 1., 1., 1.]])"
            ]
          },
          "metadata": {},
          "execution_count": 33
        }
      ]
    },
    {
      "cell_type": "code",
      "source": [
        "mask[mask==0] = -np.infty\n",
        "mask[mask==1] = 0\n",
        "mask"
      ],
      "metadata": {
        "colab": {
          "base_uri": "https://localhost:8080/"
        },
        "id": "A40HnNyDu4_1",
        "outputId": "260fc05f-625d-498a-950b-69a95a53878a"
      },
      "execution_count": 34,
      "outputs": [
        {
          "output_type": "execute_result",
          "data": {
            "text/plain": [
              "array([[  0., -inf, -inf, -inf],\n",
              "       [  0.,   0., -inf, -inf],\n",
              "       [  0.,   0.,   0., -inf],\n",
              "       [  0.,   0.,   0.,   0.]])"
            ]
          },
          "metadata": {},
          "execution_count": 34
        }
      ]
    },
    {
      "cell_type": "markdown",
      "source": [
        "Why is the previous step is important ? \n",
        "\n",
        "* Making the value of one equal zero to make sure that it won't make any changes after adding to the scaled\n",
        "\n",
        "* While making zero equal -infty is to make sure it will equal zero after applying the softmax function"
      ],
      "metadata": {
        "id": "M4j1OjpuvPhs"
      }
    },
    {
      "cell_type": "code",
      "source": [
        "scaled + mask"
      ],
      "metadata": {
        "colab": {
          "base_uri": "https://localhost:8080/"
        },
        "id": "Sa0YxIclvEDu",
        "outputId": "6394e309-afb7-4c31-fd65-8e5e19831257"
      },
      "execution_count": 35,
      "outputs": [
        {
          "output_type": "execute_result",
          "data": {
            "text/plain": [
              "array([[ 0.82350353,        -inf,        -inf,        -inf],\n",
              "       [ 0.25949761,  1.55114058,        -inf,        -inf],\n",
              "       [-0.85723338,  1.35383106, -1.9652633 ,        -inf],\n",
              "       [-0.29598617, -0.97137849,  1.0543784 ,  0.82165808]])"
            ]
          },
          "metadata": {},
          "execution_count": 35
        }
      ]
    },
    {
      "cell_type": "code",
      "source": [
        "def softmax(x) :\n",
        "  return (np.exp(x).T / np.sum(np.exp(x), axis=-1)).T"
      ],
      "metadata": {
        "id": "3lS9u9f_vyxu"
      },
      "execution_count": 36,
      "outputs": []
    },
    {
      "cell_type": "code",
      "source": [
        "attention = softmax(scaled+mask)\n",
        "attention"
      ],
      "metadata": {
        "colab": {
          "base_uri": "https://localhost:8080/"
        },
        "id": "CIXoUBbNwG9a",
        "outputId": "9fe8430f-16db-4819-e2ee-bb88c0d823d6"
      },
      "execution_count": 37,
      "outputs": [
        {
          "output_type": "execute_result",
          "data": {
            "text/plain": [
              "array([[1.        , 0.        , 0.        , 0.        ],\n",
              "       [0.21557485, 0.78442515, 0.        , 0.        ],\n",
              "       [0.09564222, 0.87277587, 0.03158191, 0.        ],\n",
              "       [0.11868828, 0.0604072 , 0.45799816, 0.36290636]])"
            ]
          },
          "metadata": {},
          "execution_count": 37
        }
      ]
    },
    {
      "cell_type": "code",
      "source": [
        "new_v = np.matmul(attention, V)\n",
        "new_v"
      ],
      "metadata": {
        "colab": {
          "base_uri": "https://localhost:8080/"
        },
        "id": "9mMnCLYAwN0v",
        "outputId": "86c07d21-0e1d-4cf5-bc46-e769cded2d54"
      },
      "execution_count": 38,
      "outputs": [
        {
          "output_type": "execute_result",
          "data": {
            "text/plain": [
              "array([[ 0.69372299, -0.33315418,  1.19076015, -0.1610816 ,  2.39293975,\n",
              "         0.45284894, -1.24985731, -1.86505915],\n",
              "       [ 0.80204834,  1.21574583, -0.10185142,  1.07029433,  0.34414618,\n",
              "         0.11359608, -0.84629263, -1.40976782],\n",
              "       [ 0.81704814,  1.37873462, -0.28013749,  1.19395184,  0.07428443,\n",
              "         0.04119176, -0.8367581 , -1.28471696],\n",
              "       [-0.07825421, -0.72217098,  0.01957552, -0.65556171,  0.86315752,\n",
              "        -0.48623689, -1.11626041, -0.37456422]])"
            ]
          },
          "metadata": {},
          "execution_count": 38
        }
      ]
    },
    {
      "cell_type": "code",
      "source": [
        "V"
      ],
      "metadata": {
        "colab": {
          "base_uri": "https://localhost:8080/"
        },
        "id": "o7-kN9akwn2E",
        "outputId": "efc31d82-ff75-4b1c-b1af-a5672985e7da"
      },
      "execution_count": 39,
      "outputs": [
        {
          "output_type": "execute_result",
          "data": {
            "text/plain": [
              "array([[ 0.69372299, -0.33315418,  1.19076015, -0.1610816 ,  2.39293975,\n",
              "         0.45284894, -1.24985731, -1.86505915],\n",
              "       [ 0.83181819,  1.64141281, -0.4570855 ,  1.40869969, -0.218901  ,\n",
              "         0.02036299, -0.73538543, -1.28464516],\n",
              "       [ 0.7823493 , -0.69619861,  0.15542968, -0.63710722,  1.15477105,\n",
              "        -0.62985551, -2.38719945,  0.47079909],\n",
              "       [-1.56832012, -1.2756044 , -0.45556935, -1.18417567,  0.17493158,\n",
              "        -0.69643907,  0.46799549, -0.80248484]])"
            ]
          },
          "metadata": {},
          "execution_count": 39
        }
      ]
    },
    {
      "cell_type": "markdown",
      "source": [
        "## Function"
      ],
      "metadata": {
        "id": "-FoH2AiewzGq"
      }
    },
    {
      "cell_type": "code",
      "source": [
        "def softmax(x):\n",
        "  return (np.exp(x).T / np.sum(np.exp(x), axis=-1)).T\n",
        "\n",
        "def scaled_dot_product_attention(q, k, v, mask=None) : \n",
        "  ''' mask will be none incase of encoder but while dealing with decoder it will be used '''\n",
        "\n",
        "  d_k = k.shape[-1]\n",
        "  scaled = np.matmul(q, k.T) / math.sqrt(d_k)\n",
        "  if mask is not None : \n",
        "    scaled = scaled + mask\n",
        "  attention = softmax(scaled)\n",
        "  new_v = np.matmul(attention, v)\n",
        "\n",
        "  return new_v, attention"
      ],
      "metadata": {
        "id": "rReDSJF-wqsl"
      },
      "execution_count": 46,
      "outputs": []
    },
    {
      "cell_type": "code",
      "source": [
        "values, attention = scaled_dot_product_attention(Q, K, V, mask=mask)\n",
        "print(\"Q\\n\", Q)\n",
        "print(\"K\\n\", K)\n",
        "print(\"V\\n\", V)\n",
        "print(\"New V\\n\", values)\n",
        "print(\"Attention\\n\", attention)"
      ],
      "metadata": {
        "colab": {
          "base_uri": "https://localhost:8080/"
        },
        "id": "EvkV19j5ySp1",
        "outputId": "792ccc21-7202-49eb-a6ee-45476a40a657"
      },
      "execution_count": 47,
      "outputs": [
        {
          "output_type": "stream",
          "name": "stdout",
          "text": [
            "Q\n",
            " [[ 0.46635938 -0.59510877 -0.66856867  0.48206448  0.32942042 -1.36681101\n",
            "   0.85614494 -0.8952576 ]\n",
            " [ 1.30083908 -1.55527784 -1.65941485 -0.01500044 -2.26423888 -0.23886225\n",
            "   0.64771944 -1.83536998]\n",
            " [ 0.78601109  2.17079093 -0.95556458  2.23233539 -1.92321913 -0.30974206\n",
            "  -0.74437963 -0.44569891]\n",
            " [-1.24050145 -0.0679195   0.96147466  0.71924158 -0.1172627  -1.07715068\n",
            "  -1.56453848  1.23153007]]\n",
            "K\n",
            " [[ 0.73421333 -1.12431073  0.47077515  0.78467098  1.30427331 -0.06162539\n",
            "  -0.22029435 -1.03760991]\n",
            " [ 1.10569123 -0.32298319 -0.76892317  1.61224318  0.48924895 -0.16134861\n",
            "   0.36756191 -1.10387244]\n",
            " [-0.12453072 -1.05014877  1.69053267  1.07387385  1.59467428  0.0599017\n",
            "   0.50100554  1.13193236]\n",
            " [-0.9740365  -0.99204449  1.9141397  -0.87020474  1.32534766 -0.55064821\n",
            "   0.76014061  0.4753191 ]]\n",
            "V\n",
            " [[ 0.69372299 -0.33315418  1.19076015 -0.1610816   2.39293975  0.45284894\n",
            "  -1.24985731 -1.86505915]\n",
            " [ 0.83181819  1.64141281 -0.4570855   1.40869969 -0.218901    0.02036299\n",
            "  -0.73538543 -1.28464516]\n",
            " [ 0.7823493  -0.69619861  0.15542968 -0.63710722  1.15477105 -0.62985551\n",
            "  -2.38719945  0.47079909]\n",
            " [-1.56832012 -1.2756044  -0.45556935 -1.18417567  0.17493158 -0.69643907\n",
            "   0.46799549 -0.80248484]]\n",
            "New V\n",
            " [[ 0.69372299 -0.33315418  1.19076015 -0.1610816   2.39293975  0.45284894\n",
            "  -1.24985731 -1.86505915]\n",
            " [ 0.80204834  1.21574583 -0.10185142  1.07029433  0.34414618  0.11359608\n",
            "  -0.84629263 -1.40976782]\n",
            " [ 0.81704814  1.37873462 -0.28013749  1.19395184  0.07428443  0.04119176\n",
            "  -0.8367581  -1.28471696]\n",
            " [-0.07825421 -0.72217098  0.01957552 -0.65556171  0.86315752 -0.48623689\n",
            "  -1.11626041 -0.37456422]]\n",
            "Attention\n",
            " [[1.         0.         0.         0.        ]\n",
            " [0.21557485 0.78442515 0.         0.        ]\n",
            " [0.09564222 0.87277587 0.03158191 0.        ]\n",
            " [0.11868828 0.0604072  0.45799816 0.36290636]]\n"
          ]
        }
      ]
    },
    {
      "cell_type": "code",
      "source": [],
      "metadata": {
        "id": "fY1--Mpjy1lh"
      },
      "execution_count": null,
      "outputs": []
    }
  ]
}